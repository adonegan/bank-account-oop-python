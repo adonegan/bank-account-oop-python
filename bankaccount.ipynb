{
 "metadata": {
  "language_info": {
   "codemirror_mode": {
    "name": "ipython",
    "version": 3
   },
   "file_extension": ".py",
   "mimetype": "text/x-python",
   "name": "python",
   "nbconvert_exporter": "python",
   "pygments_lexer": "ipython3",
   "version": "3.7.4-final"
  },
  "orig_nbformat": 2,
  "kernelspec": {
   "name": "python_defaultSpec_1600530479491",
   "display_name": "Python 3.7.4 64-bit"
  }
 },
 "nbformat": 4,
 "nbformat_minor": 2,
 "cells": [
  {
   "cell_type": "code",
   "execution_count": null,
   "metadata": {},
   "outputs": [],
   "source": [
    "Bank account - Object Orientated Programming task (Udemy)"
   ]
  },
  {
   "cell_type": "code",
   "execution_count": 40,
   "metadata": {},
   "outputs": [],
   "source": [
    "# Create class\n",
    "\n",
    "class Account:\n",
    "    def __init__(self,owner,balance):\n",
    "        self.owner = owner\n",
    "        self.balance = balance\n",
    "\n",
    "    def __str__(self):\n",
    "        return f\"Account owner: {self.owner} \\nBalance: {self.balance}\"\n",
    "\n",
    "    def deposit(self, deposit_amount):\n",
    "\n",
    "        self.balance = self.balance + deposit_amount\n",
    "        print(\"Great, you've just added {} to your account\".format(deposit_amount))\n",
    "\n",
    "    def withdrawal(self, withdrawal_amount):\n",
    "\n",
    "        if self.balance >= withdrawal_amount:\n",
    "            self.balance = self.balance - withdrawal_amount\n",
    "            print(\"You have just withdrawn {}\".format(withdrawal_amount))\n",
    "        else:\n",
    "            print(\"Uh oh, insufficient funds\")\n"
   ]
  },
  {
   "cell_type": "code",
   "execution_count": 41,
   "metadata": {},
   "outputs": [],
   "source": [
    "#Instantiate class\n",
    "acc1 = Account('Ben', 300)"
   ]
  },
  {
   "cell_type": "code",
   "execution_count": 49,
   "metadata": {
    "tags": []
   },
   "outputs": [
    {
     "output_type": "stream",
     "name": "stdout",
     "text": "Account owner: Ben \nBalance: 975\n"
    }
   ],
   "source": [
    "# print object\n",
    "print(acc1)"
   ]
  },
  {
   "cell_type": "code",
   "execution_count": 50,
   "metadata": {},
   "outputs": [
    {
     "output_type": "execute_result",
     "data": {
      "text/plain": "'Ben'"
     },
     "metadata": {},
     "execution_count": 50
    }
   ],
   "source": [
    "# Show account owner attribute\n",
    "acc1.owner"
   ]
  },
  {
   "cell_type": "code",
   "execution_count": 51,
   "metadata": {},
   "outputs": [
    {
     "output_type": "execute_result",
     "data": {
      "text/plain": "975"
     },
     "metadata": {},
     "execution_count": 51
    }
   ],
   "source": [
    "# Show balance attribute\n",
    "acc1.balance"
   ]
  },
  {
   "cell_type": "code",
   "execution_count": 52,
   "metadata": {
    "tags": []
   },
   "outputs": [
    {
     "output_type": "stream",
     "name": "stdout",
     "text": "Great, you've just added 700 to your account\n"
    }
   ],
   "source": [
    "# Make a deposit\n",
    "acc1.deposit(700)"
   ]
  },
  {
   "cell_type": "code",
   "execution_count": 53,
   "metadata": {
    "tags": []
   },
   "outputs": [
    {
     "output_type": "stream",
     "name": "stdout",
     "text": "You have just withdrawn 25\n"
    }
   ],
   "source": [
    "# Make a withdrawal\n",
    "acc1.withdrawal(25)"
   ]
  },
  {
   "cell_type": "code",
   "execution_count": 54,
   "metadata": {
    "tags": []
   },
   "outputs": [
    {
     "output_type": "stream",
     "name": "stdout",
     "text": "Account owner: Ben \nBalance: 1650\n"
    }
   ],
   "source": [
    "print(acc1) #new balance"
   ]
  },
  {
   "cell_type": "code",
   "execution_count": 55,
   "metadata": {
    "tags": []
   },
   "outputs": [
    {
     "output_type": "stream",
     "name": "stdout",
     "text": "Uh oh, insufficient funds\n"
    }
   ],
   "source": [
    "acc1.withdrawal(1651) # Trying to withraw more than I can"
   ]
  },
  {
   "cell_type": "code",
   "execution_count": 56,
   "metadata": {
    "tags": []
   },
   "outputs": [
    {
     "output_type": "stream",
     "name": "stdout",
     "text": "Great, you've just added 49 to your account\n"
    }
   ],
   "source": [
    "acc1.deposit(49)"
   ]
  },
  {
   "cell_type": "code",
   "execution_count": 58,
   "metadata": {
    "tags": []
   },
   "outputs": [
    {
     "output_type": "stream",
     "name": "stdout",
     "text": "Account owner: Ben \nBalance: 1699\n"
    }
   ],
   "source": [
    "print(acc1)"
   ]
  },
  {
   "cell_type": "code",
   "execution_count": 59,
   "metadata": {
    "tags": []
   },
   "outputs": [
    {
     "output_type": "stream",
     "name": "stdout",
     "text": "Great, you've just added 1 to your account\n"
    }
   ],
   "source": [
    "acc1.deposit(1)"
   ]
  },
  {
   "cell_type": "code",
   "execution_count": 60,
   "metadata": {
    "tags": []
   },
   "outputs": [
    {
     "output_type": "stream",
     "name": "stdout",
     "text": "Account owner: Ben \nBalance: 1700\n"
    }
   ],
   "source": [
    "print(acc1)"
   ]
  },
  {
   "cell_type": "code",
   "execution_count": null,
   "metadata": {},
   "outputs": [],
   "source": []
  }
 ]
}